{
 "cells": [
  {
   "cell_type": "code",
   "execution_count": 52,
   "metadata": {
    "collapsed": true
   },
   "outputs": [],
   "source": [
    "class Customer:\n",
    "    def __init__(self, first, last, mobile, monthly):\n",
    "        self.first = first\n",
    "        self.last = last\n",
    "        self.mobile = mobile\n",
    "        self.fullname = first + ' ' + last\n",
    "        self.monthly = monthly\n",
    "        \n",
    "    def annual(self):\n",
    "        self.salary = self.monthly*12\n",
    "        return '{0} {1}'.format(self.fullname, self.salary)"
   ]
  },
  {
   "cell_type": "code",
   "execution_count": 54,
   "metadata": {},
   "outputs": [],
   "source": [
    "cust1 = Customer('Emilee', 'Smith', '0821231234', 20000)"
   ]
  },
  {
   "cell_type": "code",
   "execution_count": 55,
   "metadata": {},
   "outputs": [
    {
     "name": "stdout",
     "output_type": "stream",
     "text": [
      "Emilee Smith 240000\n"
     ]
    }
   ],
   "source": [
    "print(cust1.annual())"
   ]
  }
 ],
 "metadata": {
  "kernelspec": {
   "display_name": "Python 3",
   "language": "python",
   "name": "python3"
  },
  "language_info": {
   "codemirror_mode": {
    "name": "ipython",
    "version": 3
   },
   "file_extension": ".py",
   "mimetype": "text/x-python",
   "name": "python",
   "nbconvert_exporter": "python",
   "pygments_lexer": "ipython3",
   "version": "3.6.3"
  }
 },
 "nbformat": 4,
 "nbformat_minor": 2
}
